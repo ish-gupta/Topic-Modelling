{
  "nbformat": 4,
  "nbformat_minor": 0,
  "metadata": {
    "colab": {
      "name": "J018_NLP_Assignment2.ipynb",
      "provenance": [],
      "collapsed_sections": []
    },
    "kernelspec": {
      "name": "python3",
      "display_name": "Python 3"
    },
    "language_info": {
      "name": "python"
    }
  },
  "cells": [
    {
      "cell_type": "code",
      "execution_count": 1,
      "metadata": {
        "colab": {
          "base_uri": "https://localhost:8080/"
        },
        "id": "4aPgnOidb-A0",
        "outputId": "79e12347-ed06-4363-dd11-695596981dd0"
      },
      "outputs": [
        {
          "output_type": "stream",
          "name": "stdout",
          "text": [
            "Mounted at /content/drive\n"
          ]
        }
      ],
      "source": [
        "from google.colab import drive\n",
        "drive.mount('/content/drive')"
      ]
    },
    {
      "cell_type": "code",
      "source": [
        "import pandas as pd \n",
        "import matplotlib.pyplot as plt \n",
        "import seaborn as sns \n",
        "import re "
      ],
      "metadata": {
        "id": "E1wKRTL7cjTS"
      },
      "execution_count": 2,
      "outputs": []
    },
    {
      "cell_type": "code",
      "source": [
        "df = pd.read_csv('/content/drive/MyDrive/Papers.csv')\n",
        "df.head()"
      ],
      "metadata": {
        "colab": {
          "base_uri": "https://localhost:8080/",
          "height": 337
        },
        "id": "mMGYG7rwcKBX",
        "outputId": "33657034-9e21-4a7d-8516-4d861609f6fe"
      },
      "execution_count": 3,
      "outputs": [
        {
          "output_type": "execute_result",
          "data": {
            "text/html": [
              "\n",
              "  <div id=\"df-467fd01d-de28-4a5b-82f7-cb602da88458\">\n",
              "    <div class=\"colab-df-container\">\n",
              "      <div>\n",
              "<style scoped>\n",
              "    .dataframe tbody tr th:only-of-type {\n",
              "        vertical-align: middle;\n",
              "    }\n",
              "\n",
              "    .dataframe tbody tr th {\n",
              "        vertical-align: top;\n",
              "    }\n",
              "\n",
              "    .dataframe thead th {\n",
              "        text-align: right;\n",
              "    }\n",
              "</style>\n",
              "<table border=\"1\" class=\"dataframe\">\n",
              "  <thead>\n",
              "    <tr style=\"text-align: right;\">\n",
              "      <th></th>\n",
              "      <th>id</th>\n",
              "      <th>year</th>\n",
              "      <th>title</th>\n",
              "      <th>event_type</th>\n",
              "      <th>pdf_name</th>\n",
              "      <th>abstract</th>\n",
              "      <th>paper_text</th>\n",
              "    </tr>\n",
              "  </thead>\n",
              "  <tbody>\n",
              "    <tr>\n",
              "      <th>0</th>\n",
              "      <td>1</td>\n",
              "      <td>1987</td>\n",
              "      <td>Self-Organization of Associative Database and ...</td>\n",
              "      <td>NaN</td>\n",
              "      <td>1-self-organization-of-associative-database-an...</td>\n",
              "      <td>Abstract Missing</td>\n",
              "      <td>767\\n\\nSELF-ORGANIZATION OF ASSOCIATIVE DATABA...</td>\n",
              "    </tr>\n",
              "    <tr>\n",
              "      <th>1</th>\n",
              "      <td>10</td>\n",
              "      <td>1987</td>\n",
              "      <td>A Mean Field Theory of Layer IV of Visual Cort...</td>\n",
              "      <td>NaN</td>\n",
              "      <td>10-a-mean-field-theory-of-layer-iv-of-visual-c...</td>\n",
              "      <td>Abstract Missing</td>\n",
              "      <td>683\\n\\nA MEAN FIELD THEORY OF LAYER IV OF VISU...</td>\n",
              "    </tr>\n",
              "    <tr>\n",
              "      <th>2</th>\n",
              "      <td>100</td>\n",
              "      <td>1988</td>\n",
              "      <td>Storing Covariance by the Associative Long-Ter...</td>\n",
              "      <td>NaN</td>\n",
              "      <td>100-storing-covariance-by-the-associative-long...</td>\n",
              "      <td>Abstract Missing</td>\n",
              "      <td>394\\n\\nSTORING COVARIANCE BY THE ASSOCIATIVE\\n...</td>\n",
              "    </tr>\n",
              "    <tr>\n",
              "      <th>3</th>\n",
              "      <td>1000</td>\n",
              "      <td>1994</td>\n",
              "      <td>Bayesian Query Construction for Neural Network...</td>\n",
              "      <td>NaN</td>\n",
              "      <td>1000-bayesian-query-construction-for-neural-ne...</td>\n",
              "      <td>Abstract Missing</td>\n",
              "      <td>Bayesian Query Construction for Neural\\nNetwor...</td>\n",
              "    </tr>\n",
              "    <tr>\n",
              "      <th>4</th>\n",
              "      <td>1001</td>\n",
              "      <td>1994</td>\n",
              "      <td>Neural Network Ensembles, Cross Validation, an...</td>\n",
              "      <td>NaN</td>\n",
              "      <td>1001-neural-network-ensembles-cross-validation...</td>\n",
              "      <td>Abstract Missing</td>\n",
              "      <td>Neural Network Ensembles, Cross\\nValidation, a...</td>\n",
              "    </tr>\n",
              "  </tbody>\n",
              "</table>\n",
              "</div>\n",
              "      <button class=\"colab-df-convert\" onclick=\"convertToInteractive('df-467fd01d-de28-4a5b-82f7-cb602da88458')\"\n",
              "              title=\"Convert this dataframe to an interactive table.\"\n",
              "              style=\"display:none;\">\n",
              "        \n",
              "  <svg xmlns=\"http://www.w3.org/2000/svg\" height=\"24px\"viewBox=\"0 0 24 24\"\n",
              "       width=\"24px\">\n",
              "    <path d=\"M0 0h24v24H0V0z\" fill=\"none\"/>\n",
              "    <path d=\"M18.56 5.44l.94 2.06.94-2.06 2.06-.94-2.06-.94-.94-2.06-.94 2.06-2.06.94zm-11 1L8.5 8.5l.94-2.06 2.06-.94-2.06-.94L8.5 2.5l-.94 2.06-2.06.94zm10 10l.94 2.06.94-2.06 2.06-.94-2.06-.94-.94-2.06-.94 2.06-2.06.94z\"/><path d=\"M17.41 7.96l-1.37-1.37c-.4-.4-.92-.59-1.43-.59-.52 0-1.04.2-1.43.59L10.3 9.45l-7.72 7.72c-.78.78-.78 2.05 0 2.83L4 21.41c.39.39.9.59 1.41.59.51 0 1.02-.2 1.41-.59l7.78-7.78 2.81-2.81c.8-.78.8-2.07 0-2.86zM5.41 20L4 18.59l7.72-7.72 1.47 1.35L5.41 20z\"/>\n",
              "  </svg>\n",
              "      </button>\n",
              "      \n",
              "  <style>\n",
              "    .colab-df-container {\n",
              "      display:flex;\n",
              "      flex-wrap:wrap;\n",
              "      gap: 12px;\n",
              "    }\n",
              "\n",
              "    .colab-df-convert {\n",
              "      background-color: #E8F0FE;\n",
              "      border: none;\n",
              "      border-radius: 50%;\n",
              "      cursor: pointer;\n",
              "      display: none;\n",
              "      fill: #1967D2;\n",
              "      height: 32px;\n",
              "      padding: 0 0 0 0;\n",
              "      width: 32px;\n",
              "    }\n",
              "\n",
              "    .colab-df-convert:hover {\n",
              "      background-color: #E2EBFA;\n",
              "      box-shadow: 0px 1px 2px rgba(60, 64, 67, 0.3), 0px 1px 3px 1px rgba(60, 64, 67, 0.15);\n",
              "      fill: #174EA6;\n",
              "    }\n",
              "\n",
              "    [theme=dark] .colab-df-convert {\n",
              "      background-color: #3B4455;\n",
              "      fill: #D2E3FC;\n",
              "    }\n",
              "\n",
              "    [theme=dark] .colab-df-convert:hover {\n",
              "      background-color: #434B5C;\n",
              "      box-shadow: 0px 1px 3px 1px rgba(0, 0, 0, 0.15);\n",
              "      filter: drop-shadow(0px 1px 2px rgba(0, 0, 0, 0.3));\n",
              "      fill: #FFFFFF;\n",
              "    }\n",
              "  </style>\n",
              "\n",
              "      <script>\n",
              "        const buttonEl =\n",
              "          document.querySelector('#df-467fd01d-de28-4a5b-82f7-cb602da88458 button.colab-df-convert');\n",
              "        buttonEl.style.display =\n",
              "          google.colab.kernel.accessAllowed ? 'block' : 'none';\n",
              "\n",
              "        async function convertToInteractive(key) {\n",
              "          const element = document.querySelector('#df-467fd01d-de28-4a5b-82f7-cb602da88458');\n",
              "          const dataTable =\n",
              "            await google.colab.kernel.invokeFunction('convertToInteractive',\n",
              "                                                     [key], {});\n",
              "          if (!dataTable) return;\n",
              "\n",
              "          const docLinkHtml = 'Like what you see? Visit the ' +\n",
              "            '<a target=\"_blank\" href=https://colab.research.google.com/notebooks/data_table.ipynb>data table notebook</a>'\n",
              "            + ' to learn more about interactive tables.';\n",
              "          element.innerHTML = '';\n",
              "          dataTable['output_type'] = 'display_data';\n",
              "          await google.colab.output.renderOutput(dataTable, element);\n",
              "          const docLink = document.createElement('div');\n",
              "          docLink.innerHTML = docLinkHtml;\n",
              "          element.appendChild(docLink);\n",
              "        }\n",
              "      </script>\n",
              "    </div>\n",
              "  </div>\n",
              "  "
            ],
            "text/plain": [
              "     id  year                                              title event_type  \\\n",
              "0     1  1987  Self-Organization of Associative Database and ...        NaN   \n",
              "1    10  1987  A Mean Field Theory of Layer IV of Visual Cort...        NaN   \n",
              "2   100  1988  Storing Covariance by the Associative Long-Ter...        NaN   \n",
              "3  1000  1994  Bayesian Query Construction for Neural Network...        NaN   \n",
              "4  1001  1994  Neural Network Ensembles, Cross Validation, an...        NaN   \n",
              "\n",
              "                                            pdf_name          abstract  \\\n",
              "0  1-self-organization-of-associative-database-an...  Abstract Missing   \n",
              "1  10-a-mean-field-theory-of-layer-iv-of-visual-c...  Abstract Missing   \n",
              "2  100-storing-covariance-by-the-associative-long...  Abstract Missing   \n",
              "3  1000-bayesian-query-construction-for-neural-ne...  Abstract Missing   \n",
              "4  1001-neural-network-ensembles-cross-validation...  Abstract Missing   \n",
              "\n",
              "                                          paper_text  \n",
              "0  767\\n\\nSELF-ORGANIZATION OF ASSOCIATIVE DATABA...  \n",
              "1  683\\n\\nA MEAN FIELD THEORY OF LAYER IV OF VISU...  \n",
              "2  394\\n\\nSTORING COVARIANCE BY THE ASSOCIATIVE\\n...  \n",
              "3  Bayesian Query Construction for Neural\\nNetwor...  \n",
              "4  Neural Network Ensembles, Cross\\nValidation, a...  "
            ]
          },
          "metadata": {},
          "execution_count": 3
        }
      ]
    },
    {
      "cell_type": "code",
      "source": [
        "from nltk.corpus import stopwords\n",
        "from string import punctuation\n",
        "import nltk\n",
        "from nltk.stem import WordNetLemmatizer,SnowballStemmer\n",
        "from gensim.models import LdaMulticore,TfidfModel,CoherenceModel\n",
        "from gensim.corpora import Dictionary\n",
        "from gensim.utils import simple_preprocess\n",
        "\n",
        "nltk.download('stopwords')\n",
        "nltk.download('wordnet')"
      ],
      "metadata": {
        "colab": {
          "base_uri": "https://localhost:8080/"
        },
        "id": "Rvou7LlPcyIs",
        "outputId": "582e7d63-053c-444f-b1a4-369faf27a877"
      },
      "execution_count": 4,
      "outputs": [
        {
          "output_type": "stream",
          "name": "stdout",
          "text": [
            "[nltk_data] Downloading package stopwords to /root/nltk_data...\n",
            "[nltk_data]   Unzipping corpora/stopwords.zip.\n",
            "[nltk_data] Downloading package wordnet to /root/nltk_data...\n",
            "[nltk_data]   Unzipping corpora/wordnet.zip.\n"
          ]
        },
        {
          "output_type": "execute_result",
          "data": {
            "text/plain": [
              "True"
            ]
          },
          "metadata": {},
          "execution_count": 4
        }
      ]
    },
    {
      "cell_type": "code",
      "source": [
        "# Keeping just the necessary columns\n",
        "\n",
        "df = df[['id','title','paper_text']]\n",
        "df.head()"
      ],
      "metadata": {
        "colab": {
          "base_uri": "https://localhost:8080/",
          "height": 206
        },
        "id": "I2-04fl_dPK6",
        "outputId": "ee9ba58c-9348-4825-cfef-dd9ff0e180eb"
      },
      "execution_count": 5,
      "outputs": [
        {
          "output_type": "execute_result",
          "data": {
            "text/html": [
              "\n",
              "  <div id=\"df-ddf4b8f3-011e-4526-85b6-c90fbad95d66\">\n",
              "    <div class=\"colab-df-container\">\n",
              "      <div>\n",
              "<style scoped>\n",
              "    .dataframe tbody tr th:only-of-type {\n",
              "        vertical-align: middle;\n",
              "    }\n",
              "\n",
              "    .dataframe tbody tr th {\n",
              "        vertical-align: top;\n",
              "    }\n",
              "\n",
              "    .dataframe thead th {\n",
              "        text-align: right;\n",
              "    }\n",
              "</style>\n",
              "<table border=\"1\" class=\"dataframe\">\n",
              "  <thead>\n",
              "    <tr style=\"text-align: right;\">\n",
              "      <th></th>\n",
              "      <th>id</th>\n",
              "      <th>title</th>\n",
              "      <th>paper_text</th>\n",
              "    </tr>\n",
              "  </thead>\n",
              "  <tbody>\n",
              "    <tr>\n",
              "      <th>0</th>\n",
              "      <td>1</td>\n",
              "      <td>Self-Organization of Associative Database and ...</td>\n",
              "      <td>767\\n\\nSELF-ORGANIZATION OF ASSOCIATIVE DATABA...</td>\n",
              "    </tr>\n",
              "    <tr>\n",
              "      <th>1</th>\n",
              "      <td>10</td>\n",
              "      <td>A Mean Field Theory of Layer IV of Visual Cort...</td>\n",
              "      <td>683\\n\\nA MEAN FIELD THEORY OF LAYER IV OF VISU...</td>\n",
              "    </tr>\n",
              "    <tr>\n",
              "      <th>2</th>\n",
              "      <td>100</td>\n",
              "      <td>Storing Covariance by the Associative Long-Ter...</td>\n",
              "      <td>394\\n\\nSTORING COVARIANCE BY THE ASSOCIATIVE\\n...</td>\n",
              "    </tr>\n",
              "    <tr>\n",
              "      <th>3</th>\n",
              "      <td>1000</td>\n",
              "      <td>Bayesian Query Construction for Neural Network...</td>\n",
              "      <td>Bayesian Query Construction for Neural\\nNetwor...</td>\n",
              "    </tr>\n",
              "    <tr>\n",
              "      <th>4</th>\n",
              "      <td>1001</td>\n",
              "      <td>Neural Network Ensembles, Cross Validation, an...</td>\n",
              "      <td>Neural Network Ensembles, Cross\\nValidation, a...</td>\n",
              "    </tr>\n",
              "  </tbody>\n",
              "</table>\n",
              "</div>\n",
              "      <button class=\"colab-df-convert\" onclick=\"convertToInteractive('df-ddf4b8f3-011e-4526-85b6-c90fbad95d66')\"\n",
              "              title=\"Convert this dataframe to an interactive table.\"\n",
              "              style=\"display:none;\">\n",
              "        \n",
              "  <svg xmlns=\"http://www.w3.org/2000/svg\" height=\"24px\"viewBox=\"0 0 24 24\"\n",
              "       width=\"24px\">\n",
              "    <path d=\"M0 0h24v24H0V0z\" fill=\"none\"/>\n",
              "    <path d=\"M18.56 5.44l.94 2.06.94-2.06 2.06-.94-2.06-.94-.94-2.06-.94 2.06-2.06.94zm-11 1L8.5 8.5l.94-2.06 2.06-.94-2.06-.94L8.5 2.5l-.94 2.06-2.06.94zm10 10l.94 2.06.94-2.06 2.06-.94-2.06-.94-.94-2.06-.94 2.06-2.06.94z\"/><path d=\"M17.41 7.96l-1.37-1.37c-.4-.4-.92-.59-1.43-.59-.52 0-1.04.2-1.43.59L10.3 9.45l-7.72 7.72c-.78.78-.78 2.05 0 2.83L4 21.41c.39.39.9.59 1.41.59.51 0 1.02-.2 1.41-.59l7.78-7.78 2.81-2.81c.8-.78.8-2.07 0-2.86zM5.41 20L4 18.59l7.72-7.72 1.47 1.35L5.41 20z\"/>\n",
              "  </svg>\n",
              "      </button>\n",
              "      \n",
              "  <style>\n",
              "    .colab-df-container {\n",
              "      display:flex;\n",
              "      flex-wrap:wrap;\n",
              "      gap: 12px;\n",
              "    }\n",
              "\n",
              "    .colab-df-convert {\n",
              "      background-color: #E8F0FE;\n",
              "      border: none;\n",
              "      border-radius: 50%;\n",
              "      cursor: pointer;\n",
              "      display: none;\n",
              "      fill: #1967D2;\n",
              "      height: 32px;\n",
              "      padding: 0 0 0 0;\n",
              "      width: 32px;\n",
              "    }\n",
              "\n",
              "    .colab-df-convert:hover {\n",
              "      background-color: #E2EBFA;\n",
              "      box-shadow: 0px 1px 2px rgba(60, 64, 67, 0.3), 0px 1px 3px 1px rgba(60, 64, 67, 0.15);\n",
              "      fill: #174EA6;\n",
              "    }\n",
              "\n",
              "    [theme=dark] .colab-df-convert {\n",
              "      background-color: #3B4455;\n",
              "      fill: #D2E3FC;\n",
              "    }\n",
              "\n",
              "    [theme=dark] .colab-df-convert:hover {\n",
              "      background-color: #434B5C;\n",
              "      box-shadow: 0px 1px 3px 1px rgba(0, 0, 0, 0.15);\n",
              "      filter: drop-shadow(0px 1px 2px rgba(0, 0, 0, 0.3));\n",
              "      fill: #FFFFFF;\n",
              "    }\n",
              "  </style>\n",
              "\n",
              "      <script>\n",
              "        const buttonEl =\n",
              "          document.querySelector('#df-ddf4b8f3-011e-4526-85b6-c90fbad95d66 button.colab-df-convert');\n",
              "        buttonEl.style.display =\n",
              "          google.colab.kernel.accessAllowed ? 'block' : 'none';\n",
              "\n",
              "        async function convertToInteractive(key) {\n",
              "          const element = document.querySelector('#df-ddf4b8f3-011e-4526-85b6-c90fbad95d66');\n",
              "          const dataTable =\n",
              "            await google.colab.kernel.invokeFunction('convertToInteractive',\n",
              "                                                     [key], {});\n",
              "          if (!dataTable) return;\n",
              "\n",
              "          const docLinkHtml = 'Like what you see? Visit the ' +\n",
              "            '<a target=\"_blank\" href=https://colab.research.google.com/notebooks/data_table.ipynb>data table notebook</a>'\n",
              "            + ' to learn more about interactive tables.';\n",
              "          element.innerHTML = '';\n",
              "          dataTable['output_type'] = 'display_data';\n",
              "          await google.colab.output.renderOutput(dataTable, element);\n",
              "          const docLink = document.createElement('div');\n",
              "          docLink.innerHTML = docLinkHtml;\n",
              "          element.appendChild(docLink);\n",
              "        }\n",
              "      </script>\n",
              "    </div>\n",
              "  </div>\n",
              "  "
            ],
            "text/plain": [
              "     id                                              title  \\\n",
              "0     1  Self-Organization of Associative Database and ...   \n",
              "1    10  A Mean Field Theory of Layer IV of Visual Cort...   \n",
              "2   100  Storing Covariance by the Associative Long-Ter...   \n",
              "3  1000  Bayesian Query Construction for Neural Network...   \n",
              "4  1001  Neural Network Ensembles, Cross Validation, an...   \n",
              "\n",
              "                                          paper_text  \n",
              "0  767\\n\\nSELF-ORGANIZATION OF ASSOCIATIVE DATABA...  \n",
              "1  683\\n\\nA MEAN FIELD THEORY OF LAYER IV OF VISU...  \n",
              "2  394\\n\\nSTORING COVARIANCE BY THE ASSOCIATIVE\\n...  \n",
              "3  Bayesian Query Construction for Neural\\nNetwor...  \n",
              "4  Neural Network Ensembles, Cross\\nValidation, a...  "
            ]
          },
          "metadata": {},
          "execution_count": 5
        }
      ]
    },
    {
      "cell_type": "markdown",
      "source": [
        "### Preprocessing"
      ],
      "metadata": {
        "id": "b61k8fa8d-ci"
      }
    },
    {
      "cell_type": "code",
      "source": [
        "df.isnull().sum()"
      ],
      "metadata": {
        "colab": {
          "base_uri": "https://localhost:8080/"
        },
        "id": "ubFpkJADd4ki",
        "outputId": "1d324ccc-e2d7-4f93-9eb4-16c05566bad5"
      },
      "execution_count": 6,
      "outputs": [
        {
          "output_type": "execute_result",
          "data": {
            "text/plain": [
              "id            0\n",
              "title         0\n",
              "paper_text    0\n",
              "dtype: int64"
            ]
          },
          "metadata": {},
          "execution_count": 6
        }
      ]
    },
    {
      "cell_type": "code",
      "source": [
        "# Stopwords\n",
        "stuff_to_be_removed = list(stopwords.words('english')) + list(punctuation)"
      ],
      "metadata": {
        "id": "2PVEsAKLeAqS"
      },
      "execution_count": 7,
      "outputs": []
    },
    {
      "cell_type": "code",
      "source": [
        "def preprocess(text):\n",
        "  text = text.lower()\n",
        "    \n",
        "  #Remove links \n",
        "  text = re.sub('http[s]?://(?:[a-zA-Z]|[0-9]|[$-_@.&+#]|[!*\\(\\),]|'\\\n",
        "                    '(?:%[0-9a-fA-F][0-9a-fA-F]))+','', text)\n",
        "  # Remove extra spaces \n",
        "  text = re.sub(' +', ' ', text)\n",
        "\n",
        "  # Remove mentions \n",
        "  text = re.sub(\"(@[A-Za-z0-9_]+)\",\"\", text)\n",
        "    \n",
        "  # Remove all non alphanumeric characters \n",
        "  text = re.sub(\"^[A-Za-z0-9_-]*$\", \"\", text)\n",
        "  \n",
        "  # Remove stopwords and lemmatize\n",
        "  lemmatizer = WordNetLemmatizer()\n",
        "  text = ' '.join([lemmatizer.lemmatize(token) for token in text.split() if token not in stuff_to_be_removed and len(token)>=4])\n",
        "  return text.split()\n",
        "\n",
        "df_clean = df['paper_text'].apply(preprocess)"
      ],
      "metadata": {
        "id": "QmoC6otSeEO9"
      },
      "execution_count": 8,
      "outputs": []
    },
    {
      "cell_type": "code",
      "source": [
        "df_clean.head()"
      ],
      "metadata": {
        "colab": {
          "base_uri": "https://localhost:8080/"
        },
        "id": "-jUkRtIOfFra",
        "outputId": "9b5f5525-19c5-47e9-8ba4-db3710ff0c62"
      },
      "execution_count": 9,
      "outputs": [
        {
          "output_type": "execute_result",
          "data": {
            "text/plain": [
              "0    [self-organization, associative, database, app...\n",
              "1    [mean, field, theory, layer, visual, cortex, a...\n",
              "2    [storing, covariance, associative, long?term, ...\n",
              "3    [bayesian, query, construction, neural, networ...\n",
              "4    [neural, network, ensembles,, cross, validatio...\n",
              "Name: paper_text, dtype: object"
            ]
          },
          "metadata": {},
          "execution_count": 9
        }
      ]
    },
    {
      "cell_type": "code",
      "source": [
        "dictionary = Dictionary(df_clean)"
      ],
      "metadata": {
        "id": "sqkIHsA_fokO"
      },
      "execution_count": 10,
      "outputs": []
    },
    {
      "cell_type": "code",
      "source": [
        "# Bag of Words\n",
        "bow_corpus = [dictionary.doc2bow(i) for i in df_clean]"
      ],
      "metadata": {
        "id": "uy8USFmOhQCE"
      },
      "execution_count": 11,
      "outputs": []
    },
    {
      "cell_type": "code",
      "source": [
        "lda_model = LdaMulticore(bow_corpus,num_topics=10,id2word=dictionary,passes=2,workers=2)"
      ],
      "metadata": {
        "id": "N5sKxUdugg_N"
      },
      "execution_count": 12,
      "outputs": []
    },
    {
      "cell_type": "code",
      "source": [
        "for id, score in sorted(lda_model[bow_corpus[4310]],key=lambda tup:-1*tup[1]):\n",
        "    print(score,'\\n',lda_model.print_topic(id,5))"
      ],
      "metadata": {
        "colab": {
          "base_uri": "https://localhost:8080/"
        },
        "id": "s-3hrl6niFER",
        "outputId": "6140df09-8cd4-49a6-8dcb-ce398f605e70"
      },
      "execution_count": 13,
      "outputs": [
        {
          "output_type": "stream",
          "name": "stdout",
          "text": [
            "0.85522294 \n",
            " 0.005*\"model\" + 0.005*\"network\" + 0.005*\"function\" + 0.004*\"learning\" + 0.004*\"result\"\n",
            "0.105095915 \n",
            " 0.007*\"algorithm\" + 0.005*\"learning\" + 0.004*\"function\" + 0.004*\"bound\" + 0.004*\"policy\"\n",
            "0.033080705 \n",
            " 0.007*\"algorithm\" + 0.006*\"model\" + 0.004*\"matrix\" + 0.004*\"method\" + 0.004*\"problem\"\n"
          ]
        }
      ]
    },
    {
      "cell_type": "code",
      "source": [
        "for id,topic in lda_model.print_topics(-1):\n",
        "    print(id,'\\n', topic)"
      ],
      "metadata": {
        "colab": {
          "base_uri": "https://localhost:8080/"
        },
        "id": "2d-pJ1kQkbmm",
        "outputId": "d8f07c9a-5a2e-47c5-8418-39202ff39fec"
      },
      "execution_count": 14,
      "outputs": [
        {
          "output_type": "stream",
          "name": "stdout",
          "text": [
            "0 \n",
            " 0.007*\"algorithm\" + 0.005*\"function\" + 0.005*\"learning\" + 0.004*\"data\" + 0.004*\"model\" + 0.004*\"using\" + 0.004*\"number\" + 0.003*\"result\" + 0.003*\"error\" + 0.003*\"network\"\n",
            "1 \n",
            " 0.006*\"model\" + 0.005*\"algorithm\" + 0.004*\"function\" + 0.004*\"method\" + 0.004*\"learning\" + 0.004*\"problem\" + 0.004*\"result\" + 0.004*\"using\" + 0.003*\"number\" + 0.003*\"also\"\n",
            "2 \n",
            " 0.006*\"model\" + 0.004*\"network\" + 0.004*\"learning\" + 0.004*\"using\" + 0.004*\"algorithm\" + 0.004*\"neural\" + 0.003*\"number\" + 0.003*\"feature\" + 0.003*\"method\" + 0.003*\"training\"\n",
            "3 \n",
            " 0.005*\"model\" + 0.005*\"network\" + 0.005*\"function\" + 0.004*\"learning\" + 0.004*\"result\" + 0.004*\"method\" + 0.004*\"neural\" + 0.003*\"using\" + 0.003*\"data\" + 0.003*\"figure\"\n",
            "4 \n",
            " 0.007*\"algorithm\" + 0.006*\"model\" + 0.004*\"matrix\" + 0.004*\"method\" + 0.004*\"problem\" + 0.004*\"data\" + 0.004*\"function\" + 0.004*\"learning\" + 0.003*\"using\" + 0.003*\"distribution\"\n",
            "5 \n",
            " 0.008*\"model\" + 0.007*\"image\" + 0.006*\"learning\" + 0.005*\"algorithm\" + 0.004*\"using\" + 0.004*\"method\" + 0.004*\"result\" + 0.003*\"feature\" + 0.003*\"function\" + 0.003*\"given\"\n",
            "6 \n",
            " 0.007*\"algorithm\" + 0.005*\"learning\" + 0.004*\"function\" + 0.004*\"bound\" + 0.004*\"policy\" + 0.004*\"using\" + 0.004*\"model\" + 0.003*\"number\" + 0.003*\"data\" + 0.003*\"problem\"\n",
            "7 \n",
            " 0.008*\"model\" + 0.006*\"algorithm\" + 0.005*\"function\" + 0.005*\"learning\" + 0.004*\"using\" + 0.003*\"number\" + 0.003*\"figure\" + 0.003*\"time\" + 0.003*\"data\" + 0.003*\"network\"\n",
            "8 \n",
            " 0.008*\"model\" + 0.006*\"algorithm\" + 0.006*\"learning\" + 0.006*\"data\" + 0.005*\"function\" + 0.004*\"time\" + 0.004*\"using\" + 0.004*\"problem\" + 0.003*\"method\" + 0.003*\"number\"\n",
            "9 \n",
            " 0.006*\"model\" + 0.004*\"feature\" + 0.004*\"neural\" + 0.004*\"network\" + 0.004*\"using\" + 0.004*\"algorithm\" + 0.003*\"image\" + 0.003*\"learning\" + 0.003*\"result\" + 0.003*\"function\"\n"
          ]
        }
      ]
    },
    {
      "cell_type": "code",
      "source": [
        "# TF-IDF\n",
        "tfidf = TfidfModel(bow_corpus)\n",
        "corpus_tfidf = tfidf[bow_corpus]"
      ],
      "metadata": {
        "id": "LWnJ_GZhhUD0"
      },
      "execution_count": 15,
      "outputs": []
    },
    {
      "cell_type": "code",
      "source": [
        "lda_model_tfidf = LdaMulticore(corpus_tfidf,num_topics=10,id2word=dictionary,passes=2,workers=2)"
      ],
      "metadata": {
        "id": "wZW756WTipST"
      },
      "execution_count": 16,
      "outputs": []
    },
    {
      "cell_type": "code",
      "source": [
        "for id, topic in lda_model_tfidf.print_topics(-1):\n",
        "    print(id,'\\n', topic)"
      ],
      "metadata": {
        "colab": {
          "base_uri": "https://localhost:8080/"
        },
        "id": "4nsQX8b5kjao",
        "outputId": "0a0b13e5-fa8d-4dcc-a214-a1e8f5793c81"
      },
      "execution_count": 17,
      "outputs": [
        {
          "output_type": "stream",
          "name": "stdout",
          "text": [
            "0 \n",
            " 0.000*\"neuron\" + 0.000*\"regret\" + 0.000*\"latent\" + 0.000*\"bound\" + 0.000*\"image\" + 0.000*\"word\" + 0.000*\"spike\" + 0.000*\"loss\" + 0.000*\"network\" + 0.000*\"variational\"\n",
            "1 \n",
            " 0.000*\"kernel\" + 0.000*\"neuron\" + 0.000*\"image\" + 0.000*\"spike\" + 0.000*\"network\" + 0.000*\"node\" + 0.000*\"graph\" + 0.000*\"latent\" + 0.000*\"cluster\" + 0.000*\"bound\"\n",
            "2 \n",
            " 0.000*\"kernel\" + 0.000*\"bound\" + 0.000*\"graph\" + 0.000*\"node\" + 0.000*\"network\" + 0.000*\"theorem\" + 0.000*\"matrix\" + 0.000*\"convex\" + 0.000*\"neuron\" + 0.000*\"image\"\n",
            "3 \n",
            " 0.000*\"network\" + 0.000*\"image\" + 0.000*\"matrix\" + 0.000*\"bound\" + 0.000*\"node\" + 0.000*\"word\" + 0.000*\"loss\" + 0.000*\"theorem\" + 0.000*\"training\" + 0.000*\"hidden\"\n",
            "4 \n",
            " 0.000*\"policy\" + 0.000*\"kernel\" + 0.000*\"matrix\" + 0.000*\"image\" + 0.000*\"label\" + 0.000*\"bound\" + 0.000*\"node\" + 0.000*\"agent\" + 0.000*\"word\" + 0.000*\"network\"\n",
            "5 \n",
            " 0.000*\"tensor\" + 0.000*\"submodular\" + 0.000*\"image\" + 0.000*\"policy\" + 0.000*\"kernel\" + 0.000*\"feature\" + 0.000*\"neuron\" + 0.000*\"object\" + 0.000*\"matrix\" + 0.000*\"churn\"\n",
            "6 \n",
            " 0.000*\"network\" + 0.000*\"image\" + 0.000*\"policy\" + 0.000*\"neuron\" + 0.000*\"layer\" + 0.000*\"deep\" + 0.000*\"kernel\" + 0.000*\"graph\" + 0.000*\"node\" + 0.000*\"training\"\n",
            "7 \n",
            " 0.000*\"kernel\" + 0.000*\"image\" + 0.000*\"network\" + 0.000*\"action\" + 0.000*\"neuron\" + 0.000*\"matrix\" + 0.000*\"object\" + 0.000*\"policy\" + 0.000*\"training\" + 0.000*\"reward\"\n",
            "8 \n",
            " 0.000*\"policy\" + 0.000*\"tensor\" + 0.000*\"regret\" + 0.000*\"bound\" + 0.000*\"player\" + 0.000*\"matrix\" + 0.000*\"image\" + 0.000*\"convex\" + 0.000*\"theorem\" + 0.000*\"tree\"\n",
            "9 \n",
            " 0.000*\"kernel\" + 0.000*\"neuron\" + 0.000*\"policy\" + 0.000*\"image\" + 0.000*\"node\" + 0.000*\"bound\" + 0.000*\"network\" + 0.000*\"convex\" + 0.000*\"matrix\" + 0.000*\"spike\"\n"
          ]
        }
      ]
    },
    {
      "cell_type": "code",
      "source": [
        "for id,score in sorted(lda_model_tfidf[corpus_tfidf[4310]],key=lambda tup: -1*tup[1]):\n",
        "    print(score, '\\n', lda_model_tfidf.print_topic(id,5))"
      ],
      "metadata": {
        "colab": {
          "base_uri": "https://localhost:8080/"
        },
        "id": "iEQqFrwthrD3",
        "outputId": "8c96d37e-33d6-457a-f475-ced45f7ef7e8"
      },
      "execution_count": 18,
      "outputs": [
        {
          "output_type": "stream",
          "name": "stdout",
          "text": [
            "0.4892348 \n",
            " 0.000*\"policy\" + 0.000*\"kernel\" + 0.000*\"matrix\" + 0.000*\"image\" + 0.000*\"label\"\n",
            "0.4718335 \n",
            " 0.000*\"network\" + 0.000*\"image\" + 0.000*\"policy\" + 0.000*\"neuron\" + 0.000*\"layer\"\n"
          ]
        }
      ]
    },
    {
      "cell_type": "code",
      "source": [
        "coherence_model_lda = CoherenceModel(model=lda_model_tfidf,texts=df_clean,dictionary=dictionary,coherence='c_v')\n",
        "coherence_lda = coherence_model_lda.get_coherence()\n",
        "print(f'Coherence Score: {coherence_lda}')"
      ],
      "metadata": {
        "colab": {
          "base_uri": "https://localhost:8080/"
        },
        "id": "3-xZkhWQiPIA",
        "outputId": "1183a775-1319-4b46-ab81-85ee1be7d9ce"
      },
      "execution_count": 19,
      "outputs": [
        {
          "output_type": "stream",
          "name": "stdout",
          "text": [
            "Coherence Score: 0.17965558115372982\n"
          ]
        }
      ]
    },
    {
      "cell_type": "code",
      "source": [
        ""
      ],
      "metadata": {
        "id": "J5QNg6VliZ87"
      },
      "execution_count": null,
      "outputs": []
    },
    {
      "cell_type": "code",
      "source": [
        ""
      ],
      "metadata": {
        "id": "YO4jco3Czong"
      },
      "execution_count": null,
      "outputs": []
    }
  ]
}